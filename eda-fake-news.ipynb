{
 "cells": [
  {
   "cell_type": "code",
   "execution_count": 7,
   "id": "956d2efd-534c-453b-ae6d-50772cdc698b",
   "metadata": {},
   "outputs": [
    {
     "name": "stdout",
     "output_type": "stream",
     "text": [
      "Dataset loaded successfully!\n",
      "Total samples: 44898\n"
     ]
    }
   ],
   "source": [
    "import pandas as pd \n",
    "import numpy as np\n",
    "import matplotlib.pyplot as plt\n",
    "import seaborn as sns\n",
    "import os\n",
    "\n",
    "fake_df = pd.read_csv('data/Fake.csv')\n",
    "real_df = pd.read_csv('data/True.csv')\n",
    "\n",
    "fake_df['label'] = 0\n",
    "real_df['label'] = 1\n",
    "\n",
    "df = pd.concat([fake_df, real_df], ignore_index=True)\n",
    "df = df.sample(frac = 1).reset_index(drop=True)\n",
    "\n",
    "print(\"Dataset loaded successfully!\")\n",
    "print(f\"Total samples: {len(df)}\")"
   ]
  },
  {
   "cell_type": "code",
   "execution_count": 8,
   "id": "2f9c6c5a-8030-4406-9b51-22df18742583",
   "metadata": {},
   "outputs": [
    {
     "name": "stdout",
     "output_type": "stream",
     "text": [
      "Null values per column:\n",
      "title      0\n",
      "text       0\n",
      "subject    0\n",
      "date       0\n",
      "label      0\n",
      "dtype: int64\n"
     ]
    },
    {
     "data": {
      "image/png": "[encoded data removed]",
      "text/plain": [
       "<Figure size 800x600 with 1 Axes>"
      ]
     },
     "metadata": {},
     "output_type": "display_data"
    },
    {
     "name": "stdout",
     "output_type": "stream",
     "text": [
      "Dataset shape after removing duplicates: (44689, 5)\n"
     ]
    }
   ],
   "source": [
    "df.drop_duplicates(inplace=True)\n",
    "\n",
    "print(\"Null values per column:\")\n",
    "print(df.isnull().sum())\n",
    "\n",
    "plt.figure(figsize=(8, 6))\n",
    "sns.countplot(x='label', data=df)\n",
    "plt.title('Real (1) vs Fake (0) News Distribution')\n",
    "plt.xlabel('Label')\n",
    "plt.ylabel('Count')\n",
    "plt.show()\n",
    "\n",
    "print(f\"Dataset shape after removing duplicates: {df.shape}\")"
   ]
  },
  {
   "cell_type": "code",
   "execution_count": 9,
   "id": "7c105938-6a32-4886-bffe-1e6b40d88ddd",
   "metadata": {},
   "outputs": [
    {
     "name": "stdout",
     "output_type": "stream",
     "text": [
      "Training set shape: (35751, 111614)\n",
      "Test set shape: (8938, 111614)\n"
     ]
    }
   ],
   "source": [
    "from sklearn.model_selection import train_test_split\n",
    "from sklearn.feature_extraction.text import TfidfVectorizer\n",
    "\n",
    "X_train, X_test, y_train, y_test = train_test_split(\n",
    "    df['text'], df['label'], \n",
    "    test_size=0.2, random_state=42,\n",
    "    stratify=df['label']\n",
    ")\n",
    "\n",
    "tfidf = TfidfVectorizer(stop_words='english', max_df=0.7)\n",
    "X_train_tfidf = tfidf.fit_transform(X_train)\n",
    "X_test_tfidf = tfidf.transform(X_test)\n",
    "\n",
    "print(f\"Training set shape: {X_train_tfidf.shape}\")\n",
    "print(f\"Test set shape: {X_test_tfidf.shape}\")"
   ]
  },
  {
   "cell_type": "code",
   "execution_count": 10,
   "id": "cf03512d-9bf9-4144-80be-5d6823d6ea66",
   "metadata": {},
   "outputs": [
    {
     "name": "stdout",
     "output_type": "stream",
     "text": [
      "Confusion Matrix:\n",
      "[[4616   80]\n",
      " [  67 4175]]\n",
      "\n",
      "Classification Report:\n",
      "              precision    recall  f1-score   support\n",
      "\n",
      "           0       0.99      0.98      0.98      4696\n",
      "           1       0.98      0.98      0.98      4242\n",
      "\n",
      "    accuracy                           0.98      8938\n",
      "   macro avg       0.98      0.98      0.98      8938\n",
      "weighted avg       0.98      0.98      0.98      8938\n",
      "\n",
      "\n",
      "Accuracy: 0.9836\n"
     ]
    }
   ],
   "source": [
    "from sklearn.linear_model import LogisticRegression\n",
    "from sklearn.metrics import classification_report, confusion_matrix, accuracy_score\n",
    "\n",
    "model = LogisticRegression()\n",
    "model.fit(X_train_tfidf, y_train)\n",
    "\n",
    "y_pred = model.predict(X_test_tfidf)\n",
    "\n",
    "print(\"Confusion Matrix:\")\n",
    "print(confusion_matrix(y_test, y_pred))\n",
    "print(\"\\nClassification Report:\")\n",
    "print(classification_report(y_test, y_pred))\n",
    "print(f\"\\nAccuracy: {accuracy_score(y_test, y_pred):.4f}\")"
   ]
  },
  {
   "cell_type": "code",
   "execution_count": 11,
   "id": "d60e362d-83f3-4b0c-9c34-2bad8d322235",
   "metadata": {},
   "outputs": [
    {
     "name": "stdout",
     "output_type": "stream",
     "text": [
      "Models saved successfully with joblib!\n",
      "Backup models saved with pickle!\n",
      "Models loaded successfully!\n",
      "Test prediction: 0 (Fake)\n"
     ]
    }
   ],
   "source": [
    "import joblib\n",
    "import pickle\n",
    "\n",
    "os.makedirs(\"model\", exist_ok=True)\n",
    "\n",
    "try:\n",
    "    # Save using joblib\n",
    "    joblib.dump(model, 'model/model.pkl')\n",
    "    joblib.dump(tfidf, 'model/vectorizer.pkl')\n",
    "    print(\"Models saved successfully with joblib!\")\n",
    "    \n",
    "    # Also save using pickle as backup\n",
    "    with open('model/model_backup.pkl', 'wb') as f:\n",
    "        pickle.dump(model, f)\n",
    "    with open('model/vectorizer_backup.pkl', 'wb') as f:\n",
    "        pickle.dump(tfidf, f)\n",
    "    print(\"Backup models saved with pickle!\")\n",
    "    \n",
    "except Exception as e:\n",
    "    print(f\"Error saving models: {e}\")\n",
    "\n",
    "# Test loading the saved models\n",
    "try:\n",
    "    loaded_model = joblib.load('model/model.pkl')\n",
    "    loaded_vectorizer = joblib.load('model/vectorizer.pkl')\n",
    "    print(\"Models loaded successfully!\")\n",
    "    \n",
    "    # Quick test\n",
    "    test_text = [\"This is a test news article\"]\n",
    "    test_vector = loaded_vectorizer.transform(test_text)\n",
    "    prediction = loaded_model.predict(test_vector)\n",
    "    print(f\"Test prediction: {prediction[0]} ({'Real' if prediction[0] == 1 else 'Fake'})\")\n",
    "    \n",
    "except Exception as e:\n",
    "    print(f\"Error loading models: {e}\")\n"
   ]
  },
  {
   "cell_type": "code",
   "execution_count": null,
   "id": "6431cc2b-dad0-44fd-a856-1656bedd3ef1",
   "metadata": {},
   "outputs": [],
   "source": []
  }
 ],
 "metadata": {
  "kernelspec": {
   "display_name": "Python 3 (ipykernel)",
   "language": "python",
   "name": "python3"
  },
  "language_info": {
   "codemirror_mode": {
    "name": "ipython",
    "version": 3
   },
   "file_extension": ".py",
   "mimetype": "text/x-python",
   "name": "python",
   "nbconvert_exporter": "python",
   "pygments_lexer": "ipython3",
   "version": "3.12.6"
  }
 },
 "nbformat": 4,
 "nbformat_minor": 5
}
