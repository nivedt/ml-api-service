{
 "cells": [
  {
   "cell_type": "code",
   "execution_count": 2,
   "id": "0bd20009-cc93-4937-9aae-961a2fc91866",
   "metadata": {},
   "outputs": [],
   "source": [
    "import pandas as pd \n",
    "\n",
    "fake_df = pd.read_csv('data/Fake.csv')\n",
    "real_df = pd.read_csv('data/True.csv')"
   ]
  },
  {
   "cell_type": "code",
   "execution_count": 3,
   "id": "956d2efd-534c-453b-ae6d-50772cdc698b",
   "metadata": {},
   "outputs": [],
   "source": [
    "fake_df['label'] = 0\n",
    "real_df['label'] = 1"
   ]
  },
  {
   "cell_type": "code",
   "execution_count": 4,
   "id": "2f9c6c5a-8030-4406-9b51-22df18742583",
   "metadata": {},
   "outputs": [],
   "source": [
    "df = pd.concat([fake_df, real_df]).reset_index(drop=True)"
   ]
  },
  {
   "cell_type": "code",
   "execution_count": null,
   "id": "7c105938-6a32-4886-bffe-1e6b40d88ddd",
   "metadata": {},
   "outputs": [],
   "source": [
    "print(df.isnull().sum())\n",
    "print(df.duplicated().sum())"
   ]
  },
  {
   "cell_type": "code",
   "execution_count": null,
   "id": "cf03512d-9bf9-4144-80be-5d6823d6ea66",
   "metadata": {},
   "outputs": [],
   "source": [
    "print(df['label'].value_counts())"
   ]
  },
  {
   "cell_type": "code",
   "execution_count": null,
   "id": "d60e362d-83f3-4b0c-9c34-2bad8d322235",
   "metadata": {},
   "outputs": [],
   "source": [
    "import matlpotlib.pyplot as plt \n",
    "\n",
    "df['label'].value_counts().plot(kind='bar', title='Real vs Fake News')\n",
    "plt.xticks(ticks=[0,1], labels=['Fake', 'Real'], rotation=0)\n",
    "plt.show()"
   ]
  },
  {
   "cell_type": "code",
   "execution_count": null,
   "id": "6431cc2b-dad0-44fd-a856-1656bedd3ef1",
   "metadata": {},
   "outputs": [],
   "source": []
  }
 ],
 "metadata": {
  "kernelspec": {
   "display_name": "Python 3 (ipykernel)",
   "language": "python",
   "name": "python3"
  },
  "language_info": {
   "codemirror_mode": {
    "name": "ipython",
    "version": 3
   },
   "file_extension": ".py",
   "mimetype": "text/x-python",
   "name": "python",
   "nbconvert_exporter": "python",
   "pygments_lexer": "ipython3",
   "version": "3.12.6"
  }
 },
 "nbformat": 4,
 "nbformat_minor": 5
}
